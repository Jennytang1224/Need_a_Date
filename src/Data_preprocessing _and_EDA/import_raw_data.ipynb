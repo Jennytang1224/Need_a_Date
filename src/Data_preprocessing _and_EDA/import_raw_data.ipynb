{
 "cells": [
  {
   "cell_type": "code",
   "execution_count": null,
   "metadata": {
    "collapsed": true,
    "scrolled": true
   },
   "outputs": [],
   "source": [
    "import pandas as pd"
   ]
  },
  {
   "cell_type": "markdown",
   "metadata": {},
   "source": [
    "# Import all data"
   ]
  },
  {
   "cell_type": "code",
   "execution_count": null,
   "metadata": {
    "collapsed": true,
    "scrolled": true
   },
   "outputs": [],
   "source": [
    "'''import data'''\n",
    "profile_path = 'data/profiles.csv'\n",
    "charge_path = 'data/charge_visitations.csv'\n",
    "user_path = 'data/users.csv'\n",
    "\n",
    "visitation_path = 'data/visitations.csv'\n",
    "bookmark_path = 'data/bookmarks.csv'\n",
    "favorite_path = 'data/favoritisms.csv'\n",
    "message_path = 'data/initial_message.csv''"
   ]
  },
  {
   "cell_type": "code",
   "execution_count": null,
   "metadata": {
    "collapsed": true
   },
   "outputs": [],
   "source": [
    "visitation = pd.read_csv(visitation_path)\n",
    "bookmark = pd.read_csv(bookmark_path)\n",
    "favorite = pd.read_csv(favorite_path)\n",
    "message = pd.read_csv(message_path)"
   ]
  },
  {
   "cell_type": "code",
   "execution_count": null,
   "metadata": {
    "scrolled": true
   },
   "outputs": [],
   "source": [
    "profile = pd.read_csv(profile_path)\n",
    "profile.info()"
   ]
  },
  {
   "cell_type": "code",
   "execution_count": null,
   "metadata": {
    "scrolled": true
   },
   "outputs": [],
   "source": [
    "charge = pd.read_csv(charge_path)\n",
    "charge.info()"
   ]
  },
  {
   "cell_type": "code",
   "execution_count": null,
   "metadata": {
    "scrolled": true
   },
   "outputs": [],
   "source": [
    "user = pd.read_csv(user_path, error_bad_lines=False)\n",
    "user.info()"
   ]
  },
  {
   "cell_type": "code",
   "execution_count": null,
   "metadata": {
    "scrolled": true
   },
   "outputs": [],
   "source": [
    "print profile \n",
    "profile.head()"
   ]
  },
  {
   "cell_type": "code",
   "execution_count": null,
   "metadata": {},
   "outputs": [],
   "source": [
    "charge['charge_type'].value_counts()"
   ]
  },
  {
   "cell_type": "code",
   "execution_count": null,
   "metadata": {
    "scrolled": true
   },
   "outputs": [],
   "source": [
    "user.head()"
   ]
  },
  {
   "cell_type": "code",
   "execution_count": null,
   "metadata": {},
   "outputs": [],
   "source": [
    "len(charge['user_id'].unique())"
   ]
  },
  {
   "cell_type": "markdown",
   "metadata": {},
   "source": [
    "# Explore Charge data\n",
    "for each user who purchased services, who are the most reviewed 5 ppl"
   ]
  },
  {
   "cell_type": "code",
   "execution_count": null,
   "metadata": {},
   "outputs": [],
   "source": [
    "charge_views = charge.groupby('user_id')['host_id'].apply(list)\n",
    "charge_views"
   ]
  },
  {
   "cell_type": "code",
   "execution_count": null,
   "metadata": {},
   "outputs": [],
   "source": [
    "charge_views = charge_views.to_frame()"
   ]
  },
  {
   "cell_type": "markdown",
   "metadata": {},
   "source": [
    "### save charge_views tabel to local"
   ]
  },
  {
   "cell_type": "code",
   "execution_count": null,
   "metadata": {
    "collapsed": true,
    "scrolled": true
   },
   "outputs": [],
   "source": [
    "charge_views.to_csv('path/charge_views.csv', sep=',')"
   ]
  },
  {
   "cell_type": "markdown",
   "metadata": {},
   "source": [
    "### read charge_views file "
   ]
  },
  {
   "cell_type": "code",
   "execution_count": null,
   "metadata": {},
   "outputs": [],
   "source": [
    "charge_views= pd.read_csv('path/charge_views.csv')\n",
    "charge_views.head()"
   ]
  },
  {
   "cell_type": "markdown",
   "metadata": {},
   "source": [
    "### Number of unique customers who made purchases and gender ratio"
   ]
  },
  {
   "cell_type": "code",
   "execution_count": null,
   "metadata": {},
   "outputs": [],
   "source": [
    "unique_purchaser_id = charge['user_id'].unique()\n",
    "print 'number of total unique purchasers: ',len(unique_purchaser_id)\n",
    "unique_profile_id = profile['user_id'].unique()\n",
    "print 'number of total unique user profiles:',len(unique_profile_id)\n",
    "unique_user_id = user['id'].unique()\n",
    "print 'number of total unique users:', len(unique_user_id)"
   ]
  },
  {
   "cell_type": "code",
   "execution_count": null,
   "metadata": {},
   "outputs": [],
   "source": [
    "gender_users = user['sex'].value_counts()\n",
    "gender_ratio_users = gender_users/num_users\n",
    "print 'gender in users :'\n",
    "print gender_users\n",
    "print 'gender ratio in users :'\n",
    "print gender_ratio_users"
   ]
  },
  {
   "cell_type": "code",
   "execution_count": null,
   "metadata": {},
   "outputs": [],
   "source": [
    "purchaser_userinfo = user[user['id'].isin(unique_purchaser_id)] \n",
    "purchaser_userinfo"
   ]
  },
  {
   "cell_type": "code",
   "execution_count": null,
   "metadata": {},
   "outputs": [],
   "source": [
    "purchaser_profileinfo = profile[profile['user_id'].isin(unique_purchaser_id)] \n",
    "purchaser_profileinfo "
   ]
  },
  {
   "cell_type": "code",
   "execution_count": null,
   "metadata": {},
   "outputs": [],
   "source": [
    "print 'gender in purchaser :'\n",
    "print user[user['id'].isin(purchaser)]['sex'].value_counts()\n",
    "print 'gender ratio in purchaser:'\n",
    "print user[user['id'].isin(purchaser)]['sex'].value_counts()/len(purchaser)"
   ]
  },
  {
   "cell_type": "code",
   "execution_count": null,
   "metadata": {},
   "outputs": [],
   "source": [
    "print 'seeking num:'\n",
    "print user[user['id'].isin(purchaser)]['seeking'].value_counts()\n",
    "print 'seeking ratio:' \n",
    "print user[user['id'].isin(purchaser)]['seeking'].value_counts()/len(purchaser)"
   ]
  },
  {
   "cell_type": "markdown",
   "metadata": {},
   "source": [
    "### Example: User #195 profile, user info, and most viewed ppl"
   ]
  },
  {
   "cell_type": "code",
   "execution_count": null,
   "metadata": {},
   "outputs": [],
   "source": [
    "profile[profile['user_id']==195]"
   ]
  },
  {
   "cell_type": "code",
   "execution_count": null,
   "metadata": {},
   "outputs": [],
   "source": [
    "user[user['id']==195] "
   ]
  },
  {
   "cell_type": "code",
   "execution_count": null,
   "metadata": {},
   "outputs": [],
   "source": [
    "charge[charge['user_id']==195]"
   ]
  },
  {
   "cell_type": "code",
   "execution_count": null,
   "metadata": {},
   "outputs": [],
   "source": [
    "charge[charge['user_id']==195]['host_id'].tolist() # 5 views "
   ]
  },
  {
   "cell_type": "markdown",
   "metadata": {},
   "source": [
    "# Explore user actions"
   ]
  },
  {
   "cell_type": "code",
   "execution_count": null,
   "metadata": {},
   "outputs": [],
   "source": [
    "print visitation['created_at'].min()\n",
    "print bookmark['created_at'].min()\n",
    "print favorite['created_at'].min()\n",
    " # 1 year data "
   ]
  },
  {
   "cell_type": "code",
   "execution_count": null,
   "metadata": {
    "collapsed": true,
    "scrolled": true
   },
   "outputs": [],
   "source": [
    "# 0:not interested/haven't viewed 1:visited 2:bookmarked 3: favorited\n",
    "visitation['flag'] = 'v'\n",
    "v = visitation[['user_id','host_id','flag']]\n",
    "\n",
    "bookmark['flag'] = 'b'\n",
    "b = bookmark[['user_id','host_id','flag']]\n",
    "\n",
    "favorite['flag'] = 'f'\n",
    "f = favorite[['user_id','host_id','flag']]"
   ]
  },
  {
   "cell_type": "code",
   "execution_count": null,
   "metadata": {},
   "outputs": [],
   "source": [
    "print 'visitation: ', len(v['user_id'].unique())\n",
    "print 'bookmark: ', len(b['user_id'].unique())\n",
    "print 'favorite:', len(f['user_id'].unique())"
   ]
  },
  {
   "cell_type": "code",
   "execution_count": null,
   "metadata": {},
   "outputs": [],
   "source": [
    "df_temp = pd.merge(v, b, how='outer', on=['user_id', 'host_id'])\n",
    "df = pd.merge(df_temp, f, how='outer', on=['user_id', 'host_id'])\n",
    "df.head()"
   ]
  },
  {
   "cell_type": "code",
   "execution_count": null,
   "metadata": {},
   "outputs": [],
   "source": [
    "len(df)"
   ]
  },
  {
   "cell_type": "markdown",
   "metadata": {},
   "source": [
    "## save ratings to local csv"
   ]
  },
  {
   "cell_type": "code",
   "execution_count": null,
   "metadata": {},
   "outputs": [],
   "source": [
    "action = []\n",
    "for i in range(len(df.index)):\n",
    "    if df.ix[i].flag == 'f':\n",
    "        action.append(df.ix[i].flag)\n",
    "    else: \n",
    "        if df.ix[i].flag_y == 'b':\n",
    "            action.append(df.ix[i].flag_y)   \n",
    "        else:\n",
    "            action.append(df.ix[i].flag_x)\n",
    "print action"
   ]
  },
  {
   "cell_type": "code",
   "execution_count": null,
   "metadata": {},
   "outputs": [],
   "source": [
    "num = len(action) \n",
    "num"
   ]
  },
  {
   "cell_type": "code",
   "execution_count": null,
   "metadata": {},
   "outputs": [],
   "source": [
    "df = df.copy()\n",
    "df = df.head(num)\n",
    "df['action'] = action \n",
    "df"
   ]
  },
  {
   "cell_type": "code",
   "execution_count": null,
   "metadata": {},
   "outputs": [],
   "source": [
    "print df['action'].value_counts()\n",
    "print df['action'].value_counts()/df['action'].count()"
   ]
  },
  {
   "cell_type": "code",
   "execution_count": null,
   "metadata": {},
   "outputs": [],
   "source": [
    "# convert to ratings\n",
    "df_rating = df[['user_id','host_id','action']]\n",
    "d={'f':3,'b':2,'v':1}\n",
    "df_['rating']=df_rating['action'].map(d)\n",
    "df_rating"
   ]
  },
  {
   "cell_type": "code",
   "execution_count": null,
   "metadata": {},
   "outputs": [],
   "source": [
    "df_rating.to_csv('path/rating.csv', sep=',')\n",
    "# saved rating table to local\n",
    "df_rating"
   ]
  }
 ],
 "metadata": {
  "kernelspec": {
   "display_name": "Python 2",
   "language": "python",
   "name": "python2"
  },
  "language_info": {
   "codemirror_mode": {
    "name": "ipython",
    "version": 2
   },
   "file_extension": ".py",
   "mimetype": "text/x-python",
   "name": "python",
   "nbconvert_exporter": "python",
   "pygments_lexer": "ipython2",
   "version": "2.7.13"
  }
 },
 "nbformat": 4,
 "nbformat_minor": 2
}
