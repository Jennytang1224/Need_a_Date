{
 "cells": [
  {
   "cell_type": "code",
   "execution_count": null,
   "metadata": {
    "collapsed": true
   },
   "outputs": [],
   "source": [
    "import pandas as pd\n",
    "import numpy as np\n",
    "from scipy.stats import mode\n",
    "import matplotlib.pyplot as plt\n",
    "%matplotlib inline"
   ]
  },
  {
   "cell_type": "code",
   "execution_count": null,
   "metadata": {},
   "outputs": [],
   "source": [
    "filtered_profile = pd.read_csv('/Users/jennytang/Desktop/2rb/data/saved/filtered_profile.csv')\n",
    "filtered_profile #152057 rows × 40 columns"
   ]
  },
  {
   "cell_type": "code",
   "execution_count": null,
   "metadata": {
    "collapsed": true
   },
   "outputs": [],
   "source": []
  },
  {
   "cell_type": "markdown",
   "metadata": {},
   "source": [
    "# feature engineering: \n",
    "- convert variables to meaningful info : birthday(age) and created_at_x(account length)\n",
    "- fill missing values \n",
    "- dummify categorical values\n"
   ]
  },
  {
   "cell_type": "markdown",
   "metadata": {},
   "source": [
    "### - convert variables to meaningful info : birthday(age) and created_at_x(account length)"
   ]
  },
  {
   "cell_type": "code",
   "execution_count": null,
   "metadata": {
    "scrolled": true
   },
   "outputs": [],
   "source": [
    "# birthday(age)\n",
    "this_year = 2017\n",
    "filtered_profile['birthday'] = pd.to_datetime(filtered_profile['birthday']).dt.year\n",
    "filtered_profile['age'] = this_year - filtered_profile['birthday']\n",
    "filtered_profile['age']"
   ]
  },
  {
   "cell_type": "code",
   "execution_count": null,
   "metadata": {
    "scrolled": true
   },
   "outputs": [],
   "source": [
    "# created_at_x(account_length)\n",
    "today = pd.to_datetime('2017-12-31')\n",
    "filtered_profile['created_at_x'] = pd.to_datetime(filtered_profile['created_at_x'])\n",
    "filtered_profile['account_length'] = (today - filtered_profile['created_at_x']).dt.days\n",
    "filtered_profile['account_length']"
   ]
  },
  {
   "cell_type": "code",
   "execution_count": null,
   "metadata": {
    "scrolled": true
   },
   "outputs": [],
   "source": [
    "filtered_profile = filtered_profile.drop(['birthday','created_at_x'],axis = 1)\n",
    "print filtered_profile.columns"
   ]
  },
  {
   "cell_type": "code",
   "execution_count": null,
   "metadata": {},
   "outputs": [],
   "source": [
    "filtered_profile.shape"
   ]
  },
  {
   "cell_type": "markdown",
   "metadata": {},
   "source": [
    "##### making flags for missing values"
   ]
  },
  {
   "cell_type": "code",
   "execution_count": null,
   "metadata": {
    "scrolled": true
   },
   "outputs": [],
   "source": [
    "for col in filtered_profile.columns:\n",
    "    filtered_profile[col+\"_missing\"] = filtered_profile[col].isnull()\n",
    "filtered_profile"
   ]
  },
  {
   "cell_type": "code",
   "execution_count": null,
   "metadata": {},
   "outputs": [],
   "source": [
    "len(filtered_profile.columns.tolist()) # for each col, there's a correspongding col_missing flag col"
   ]
  },
  {
   "cell_type": "markdown",
   "metadata": {},
   "source": [
    "### For more accurate modeling, drop some special cases"
   ]
  },
  {
   "cell_type": "code",
   "execution_count": null,
   "metadata": {},
   "outputs": [],
   "source": [
    "len(filtered_profile[filtered_profile['sex'] == filtered_profile['seeking']]) "
   ]
  },
  {
   "cell_type": "code",
   "execution_count": null,
   "metadata": {
    "scrolled": true
   },
   "outputs": [],
   "source": [
    "special_case = filtered_profile[filtered_profile['sex'] == filtered_profile['seeking']]\n",
    "special_case"
   ]
  },
  {
   "cell_type": "code",
   "execution_count": null,
   "metadata": {},
   "outputs": [],
   "source": [
    "filtered_profile = filtered_profile.drop(special_case.index)\n",
    "filtered_profile.shape"
   ]
  },
  {
   "cell_type": "code",
   "execution_count": null,
   "metadata": {},
   "outputs": [],
   "source": []
  },
  {
   "cell_type": "markdown",
   "metadata": {},
   "source": [
    "### Fill missing values "
   ]
  },
  {
   "cell_type": "code",
   "execution_count": null,
   "metadata": {
    "scrolled": true
   },
   "outputs": [],
   "source": [
    "filtered_profile.info() # check which columns are missing values"
   ]
  },
  {
   "cell_type": "markdown",
   "metadata": {},
   "source": [
    "### missing location(lat and lng)\n",
    "- use the users who receive their messages's average location to fill missing location\n",
    "- if they message the person that means the message receiver might be close to the user's location so we can use that to guess his location"
   ]
  },
  {
   "cell_type": "code",
   "execution_count": null,
   "metadata": {},
   "outputs": [],
   "source": [
    "len(filtered_profile[filtered_profile['lat'].isnull()==True]),len(filtered_profile[filtered_profile['lng'].isnull()==True])"
   ]
  },
  {
   "cell_type": "code",
   "execution_count": null,
   "metadata": {
    "collapsed": true,
    "scrolled": true
   },
   "outputs": [],
   "source": [
    "msk = filtered_profile[filtered_profile['lat'].isnull()==True]\n",
    "filtered_profile = filtered_profile.drop(msk.index,axis =0)"
   ]
  },
  {
   "cell_type": "code",
   "execution_count": null,
   "metadata": {
    "scrolled": true
   },
   "outputs": [],
   "source": [
    "filtered_profile"
   ]
  },
  {
   "cell_type": "code",
   "execution_count": null,
   "metadata": {
    "collapsed": true
   },
   "outputs": [],
   "source": [
    "# initial_message = pd.read_csv('path/first_message_list.txt')"
   ]
  },
  {
   "cell_type": "code",
   "execution_count": null,
   "metadata": {
    "collapsed": true,
    "scrolled": true
   },
   "outputs": [],
   "source": [
    "# missing_location_user_id = filtered_profile['user_id'][filtered_profile['lat'].isnull()==True]"
   ]
  },
  {
   "cell_type": "code",
   "execution_count": null,
   "metadata": {
    "collapsed": true
   },
   "outputs": [],
   "source": [
    "# user_miss_loc_message = initial_message[initial_message['sender_id'].isin(missing_location_user_id)]\n",
    "# print 'number of unique users who didnt fill their location but messaged other people show interest:', len(user_miss_loc_message['sender_id'].unique())"
   ]
  },
  {
   "cell_type": "code",
   "execution_count": null,
   "metadata": {
    "collapsed": true
   },
   "outputs": [],
   "source": [
    "# user_miss_loc_message.columns"
   ]
  },
  {
   "cell_type": "code",
   "execution_count": null,
   "metadata": {
    "collapsed": true
   },
   "outputs": [],
   "source": [
    "# temp = user_miss_loc_message\n",
    "# msk = filtered_profile['user_id'].isin(user_miss_loc_message['receiver_id'])\n",
    "# len(filtered_profile[msk]['lat'])\n",
    "# len(temp)\n",
    "# # temp['lat']=filtered_profile.loc[msk]['lat']\n",
    "# # temp.loc[msk,'lat'] = filtered_profile[msk]['lat']\n",
    "# # temp.loc[msk,'lng'] = filtered_profile[msk]['lng']"
   ]
  },
  {
   "cell_type": "markdown",
   "metadata": {},
   "source": [
    "### missing zodiac and cn_zodiac\n",
    "fill out both missing zodiac and cn_zodiac in 0 since the defined range is from 1-12\n",
    "- ZODIAC ={ \n",
    "    \"capricorn\" => 1,\n",
    "    \"aquarius\" => 2,\n",
    "    \"pisces\" => 3,\n",
    "    \"aries\" => 4,\n",
    "    \"taurus\" => 5,\n",
    "    \"gemini\" => 6,\n",
    "    \"cancer\" => 7,\n",
    "    \"leo\" => 8,\n",
    "    \"virgo\" => 9,\n",
    "    \"libra\" => 10,\n",
    "    \"scorpio\" => 11,\n",
    "    \"sagittarius\" => 12}\n",
    "\n",
    "- CHINESE_ZODIAC = {\n",
    "    \"rat\" => 1,\n",
    "    \"ox\" => 2,\n",
    "    \"tiger\" => 3,\n",
    "    \"rabbit\" => 4,\n",
    "    \"dragon\" => 5,\n",
    "    \"snake\" => 6,\n",
    "    \"horse\" => 7,\n",
    "    \"sheep\" => 8,\n",
    "    \"monkey\" => 9,\n",
    "    \"rooster\" => 10,\n",
    "    \"dog\" => 11,\n",
    "    \"pig\" => 12}"
   ]
  },
  {
   "cell_type": "code",
   "execution_count": null,
   "metadata": {
    "scrolled": true
   },
   "outputs": [],
   "source": [
    "filtered_profile['zodiac'].value_counts() #categorical #fill in 0\n",
    "filtered_profile['zodiac'] = filtered_profile['zodiac'].fillna(0)\n",
    "filtered_profile['zodiac']"
   ]
  },
  {
   "cell_type": "code",
   "execution_count": null,
   "metadata": {
    "scrolled": true
   },
   "outputs": [],
   "source": [
    "filtered_profile['cn_zodiac'].value_counts() #categorical #fill in 0\n",
    "filtered_profile['cn_zodiac'] = filtered_profile['cn_zodiac'].fillna(0)\n",
    "filtered_profile['cn_zodiac']"
   ]
  },
  {
   "cell_type": "markdown",
   "metadata": {},
   "source": [
    "### missing age\n",
    "fill ages with mode separeated by genders: numerical\n",
    "- based on sex, use mode of each gender group\n",
    "- => f_mode_age: 27 and m_mode_age: 27"
   ]
  },
  {
   "cell_type": "code",
   "execution_count": null,
   "metadata": {
    "scrolled": false
   },
   "outputs": [],
   "source": [
    "filtered_profile['age'].fillna(0,inplace=True)\n",
    "filtered_profile['age'].isnull().value_counts()\n",
    "\n",
    "valid_age_condition = filtered_profile['age'] >= 16 # include 0(nan) and negative numbers\n",
    "\n",
    "invalid_conditionf = (~valid_age_condition) & (filtered_profile['sex']==2)\n",
    "# print len(filtered_profile[invalid_conditionf])\n",
    "\n",
    "invalid_conditionm = (~valid_age_condition) & (filtered_profile['sex']==1)\n",
    "# print len(filtered_profile[invalid_conditionm])\n",
    "\n",
    "temp = filtered_profile[valid_age_condition] #valid ages\n",
    "print 'Number of invalid ages:', len(filtered_profile)-len(temp) # number of valid ages and nan = 26369\n",
    "\n",
    "\n",
    "f_mode_age = mode(temp[temp['sex']==2]['age']).mode[0]\n",
    "print 'within valid female ages, the mode age is:', f_mode_age\n",
    "m_mode_age = mode(temp['age'][temp['sex']==1]).mode[0]\n",
    "print 'within valid male ages, male mode age is:', m_mode_age\n",
    "# print len(filtered_profile['age'])\n",
    "\n",
    "filtered_profile.loc[invalid_conditionf,'age'] = f_mode_age\n",
    "filtered_profile.loc[invalid_conditionm,'age'] = m_mode_age\n",
    "\n",
    "filtered_profile['age'].isnull().value_counts()"
   ]
  },
  {
   "cell_type": "code",
   "execution_count": null,
   "metadata": {
    "collapsed": true,
    "scrolled": true
   },
   "outputs": [],
   "source": []
  },
  {
   "cell_type": "markdown",
   "metadata": {},
   "source": [
    "### missing education\n",
    "fill missing education: can be filled in mean or mode based on sex  \n",
    "- EDUCATION ={\"high_school\" => 1 , \"some_college\" => 2, \"bachelor\" =>3, \"master\" => 4, \"phd\" => 5, \"associate\" => 6}\n",
    "- => both mean and mode for both f and m turn out are 3!!! -> \"bachelor\" \n"
   ]
  },
  {
   "cell_type": "code",
   "execution_count": null,
   "metadata": {
    "scrolled": true
   },
   "outputs": [],
   "source": [
    "filtered_profile[filtered_profile['education'].isnull()==True]"
   ]
  },
  {
   "cell_type": "code",
   "execution_count": null,
   "metadata": {
    "scrolled": false
   },
   "outputs": [],
   "source": [
    "print filtered_profile['education'].value_counts()  #categorical  #0s means not filled :\n",
    "\n",
    "#can be filled in mean / mode based on sex \n",
    "temp2 = filtered_profile[(filtered_profile['education'].isnull() == False) & (filtered_profile['education']!=0) ] # ppl who filled edu\n",
    "print 'Number of missing edu:', len(filtered_profile)-len(temp2) # number of missing edu\n",
    "print len(temp2)\n",
    "print\n",
    "f_mode_edu = mode(temp2[temp2['sex']==2]['education']).mode[0]\n",
    "print 'mode edu of female is:', f_mode_edu\n",
    "m_mode_edu = mode(temp2[temp2['sex']==1]['education']).mode[0]\n",
    "print 'mode edu of male is:', m_mode_edu\n",
    "\n",
    "f_mean_edu = temp2[temp2['sex']==2]['education'].mean()\n",
    "print 'mean edu of female is:', f_mean_edu\n",
    "m_mean_edu = temp2[temp2['sex']==1]['education'].mean()\n",
    "print 'mean edu of male is:', m_mean_edu\n",
    "# mode and mean for both f and m are 3! \n",
    "\n",
    "mask = (filtered_profile['education'].isnull() == True) | (filtered_profile['education']==0)\n",
    "filtered_profile.loc[mask,'education'] = f_mode_edu \n",
    "\n",
    "filtered_profile['education'].value_counts()"
   ]
  },
  {
   "cell_type": "code",
   "execution_count": null,
   "metadata": {
    "collapsed": true
   },
   "outputs": [],
   "source": []
  },
  {
   "cell_type": "markdown",
   "metadata": {},
   "source": [
    "### missing birth place\n",
    "fill birth place by mode\n",
    "- BIRTH_PLACE ={\n",
    "    \"United States\" => 1,\n",
    "    \"Canada\" => 2,\n",
    "    \"China\" => 3,\n",
    "    \"HongKong\" => 4,\n",
    "    \"Taiwan\" => 5,\n",
    "    \"Macao\" => 6,\n",
    "- => top 3: United states, Macao, Canda\n",
    "- fill in mode: US "
   ]
  },
  {
   "cell_type": "code",
   "execution_count": null,
   "metadata": {},
   "outputs": [],
   "source": [
    "#can be filled in mode\n",
    "temp3 = filtered_profile[(filtered_profile['birth_place'].isnull() == False) & (filtered_profile['birth_place']!=0) ] # ppl who filled 'birth_place'\n",
    "print '% of user birthplaces among the users who filled : '\n",
    "print temp3['birth_place'].value_counts()/len(temp3) # categorical  #0s means not filled \n",
    "print \n",
    "print 'Number of missing birth_place:', len(filtered_profile)-len(temp3) # number of missing edu\n",
    "print\n",
    "mode_birth_place = mode(temp3['birth_place']).mode[0]\n",
    "print 'most freq birth_place is:', mode_birth_place\n",
    "\n",
    "mask = (filtered_profile['birth_place'].isnull() == True) | (filtered_profile['birth_place']==0)\n",
    "\n",
    "filtered_profile.loc[mask,'birth_place']= mode_birth_place\n",
    "print \n",
    "print '% of user birthplaces among all users after filling the mode:' \n",
    "print filtered_profile['birth_place'].value_counts()/len(filtered_profile['birth_place'])\n",
    "# fill in mode chnaged % of ppl birth place in U.S. increased by 0.15"
   ]
  },
  {
   "cell_type": "markdown",
   "metadata": {},
   "source": [
    "### missing ethnicity\n",
    "fill ethnicity\n",
    "-   ETHNICITY ={\n",
    "    \"chinese\" => 1,\n",
    "    \"cambodian\" => 2,\n",
    "    \"fillipino\" => 3,\n",
    "    \"japanese\" => 4,\n",
    "    \"korean\" => 5,\n",
    "    \"laotian\" => 6,\n",
    "    \"malaysian\" => 7,\n",
    "    \"pacific_islander\" => 8,\n",
    "    \"tai\" => 9,\n",
    "    \"vietnamese\" => 10,\n",
    "    \"other_asian\" => 11,\n",
    "    \"black\" => 12,\n",
    "    \"hispanic\" => 13,\n",
    "    \"indian\" => 14,\n",
    "    \"middle_eastern\" => 15,\n",
    "    \"native_american\" => 16,\n",
    "    \"white_caucasian\" => 17,\n",
    "    \"other\" => 18}\n",
    "- Chinese among all filled Ethnicity are  0.944345\n",
    "- made for both f and m are chinese! fill in mode 1 as chinese for all"
   ]
  },
  {
   "cell_type": "code",
   "execution_count": null,
   "metadata": {
    "scrolled": true
   },
   "outputs": [],
   "source": [
    "print filtered_profile['ethnicity'].value_counts() #categorical  #0s means not filled \n",
    "\n",
    "temp4 = filtered_profile[(filtered_profile['ethnicity'].isnull() == False) & (filtered_profile['ethnicity']!=0) ] # ppl who filled 'Ethnicity'\n",
    "print \"% of user enthnicity among the users who filled\"\n",
    "print temp4['ethnicity'].value_counts()/len(temp4['ethnicity'])\n",
    "# 1.0 Chinese are  0.944345!!!! \n",
    "\n",
    "f_mode_eth = mode(temp4[temp4['sex']==2]['ethnicity']).mode[0]\n",
    "print 'mode ethnicity of female is:', f_mode_eth\n",
    "m_mode_eth = mode(temp4[temp4['sex']==1]['ethnicity']).mode[0]\n",
    "print 'mode ethnicity of male is:', m_mode_eth\n",
    "\n",
    "mask = (filtered_profile['ethnicity'].isnull() == True) | (filtered_profile['ethnicity']==0)\n",
    "filtered_profile.loc[mask,'ethnicity'] = m_mode_eth\n",
    "filtered_profile['ethnicity'].value_counts()/len(filtered_profile['ethnicity'])"
   ]
  },
  {
   "cell_type": "markdown",
   "metadata": {},
   "source": [
    "### missing body type\n",
    "fill body type by gender\n",
    "-   BODY_TYPE = {\"Slender\" => 1, \"Athletic\" =>2, \"Average build\" =>3, \"Curvy\" =>4}\n",
    "-  most male and female think they are average build "
   ]
  },
  {
   "cell_type": "code",
   "execution_count": null,
   "metadata": {},
   "outputs": [],
   "source": [
    "print filtered_profile['body_type'].value_counts() #categorical  #0s means not filled \n",
    "\n",
    "temp5 = filtered_profile[(filtered_profile['body_type'].isnull() == False) & (filtered_profile['body_type']!=0) ] # ppl who filled 'body_type'\n",
    "\n",
    "f_mode_body = mode(temp5[temp5['sex']==2]['body_type']).mode[0]\n",
    "print 'mode boday type of female is:', f_mode_body\n",
    "m_mode_body = mode(temp5[temp5['sex']==1]['body_type']).mode[0]\n",
    "print 'mode body type of male is:', m_mode_body\n",
    "\n",
    "mask = (filtered_profile['body_type'].isnull() == True) | (filtered_profile['body_type']==0)\n",
    "filtered_profile.loc[(mask),'body_type'] = f_mode_body\n",
    "filtered_profile['body_type'].value_counts()"
   ]
  },
  {
   "cell_type": "markdown",
   "metadata": {},
   "source": [
    "### missing have_children\n",
    "fill have_children\n",
    "- has_children ={\"No\" => 1 , \"Yes\" => 2}\n",
    "- => only 0.293952 female users with kid and 0.198786 male users with kids\n",
    "- fill in 1 as no for missing data\n"
   ]
  },
  {
   "cell_type": "code",
   "execution_count": null,
   "metadata": {},
   "outputs": [],
   "source": [
    "filtered_profile['have_children'].value_counts() #categorical  #0s means not filled \n",
    "\n",
    "temp6 = filtered_profile[(filtered_profile['have_children'].isnull() == False) & (filtered_profile['have_children']!=0) ] # ppl who filled 'have_children\n",
    "\n",
    "f_mode_child = mode(temp6[temp6['sex']==2]['have_children']).mode[0]\n",
    "print 'mode of have child of female is:', f_mode_child\n",
    "m_mode_child = mode(temp6[temp6['sex']==1]['have_children']).mode[0]\n",
    "print 'mode of have child of male is:', m_mode_child\n",
    "print \n",
    "\n",
    "percent_f_child = (temp6[temp6['sex']==2]['have_children']).value_counts()/len(temp6[temp6['sex']==2])\n",
    "print '% of female have children is:'\n",
    "print percent_f_child\n",
    "print\n",
    "percent_m_child = (temp6[temp6['sex']==1]['have_children']).value_counts()/len(temp6[temp6['sex']==1])\n",
    "print '% of male have children is:'\n",
    "print percent_m_child\n",
    "# both f and m are 'no'\n",
    "\n",
    "\n",
    "mask = (filtered_profile['have_children'].isnull() == True) | (filtered_profile['have_children']==0)\n",
    "filtered_profile.loc[(mask),'have_children'] = f_mode_child\n",
    "print \n",
    "print '% of users have kids:'\n",
    "print filtered_profile['have_children'].value_counts()/len(filtered_profile['have_children'])\n",
    "\n"
   ]
  },
  {
   "cell_type": "markdown",
   "metadata": {},
   "source": [
    "### missing marital status\n",
    "fill marital status\n",
    "- MARITAL_STATUS ={\"Never_married\" => 1 , \"Divorced\" => 2, \"Widowed\" => 3, \"Seperated\"=>4}\n",
    "- => 0.78 female users are never married;  0.87 of male users are never married\n",
    "- fill in mode 1 as never married "
   ]
  },
  {
   "cell_type": "code",
   "execution_count": null,
   "metadata": {},
   "outputs": [],
   "source": [
    "print filtered_profile['marital_status'].value_counts()\n",
    "drop_rows = filtered_profile[filtered_profile['marital_status'] == 10]\n",
    "filtered_profile = filtered_profile.drop(drop_rows.index)\n",
    "filtered_profile"
   ]
  },
  {
   "cell_type": "code",
   "execution_count": null,
   "metadata": {},
   "outputs": [],
   "source": [
    "temp7 = filtered_profile[(filtered_profile['marital_status'].isnull() == False) & (filtered_profile['marital_status']!=0) ] # ppl who filled 'marital_status'\n",
    "\n",
    "f_mode_marital = mode(temp7[temp7['sex']==2]['marital_status']).mode[0]\n",
    "print 'mode of marital_status of female is:', f_mode_marital\n",
    "m_mode_marital = mode(temp7[temp7['sex']==1]['marital_status']).mode[0]\n",
    "print 'mode of marital_status of male is:', m_mode_marital\n",
    "print \n",
    "\n",
    "percent_f_marital = (temp7[temp7['sex']==2]['marital_status']).value_counts()/len(temp7[temp7['sex']==2])\n",
    "print '% of female marital_status among female who filled:'\n",
    "print percent_f_marital\n",
    "print\n",
    "percent_m_marital = (temp7[temp7['sex']==1]['marital_status']).value_counts()/len(temp7[temp7['sex']==1])\n",
    "print '% of male marital_status among male who filled:'\n",
    "print percent_m_marital\n",
    "# both f and m are 'never married'\n",
    "\n",
    "mask = (filtered_profile['marital_status'].isnull() == True) | (filtered_profile['marital_status']==0)\n",
    "filtered_profile.loc[(mask),'marital_status'] = f_mode_marital\n",
    "print \n",
    "print '% of all users marital status after fill in mode:'\n",
    "print filtered_profile['marital_status'].value_counts()/len(filtered_profile['marital_status'])\n"
   ]
  },
  {
   "cell_type": "markdown",
   "metadata": {},
   "source": [
    "### missing occupation\n",
    "fill occupation\n",
    "- OCCUPATION = {\"human_resources\" => 1, \"artistic\" => 2, \"education\" => 3, \"engineering\" => 4, \"accounting\" => 5, \"executive\" => 6, \"law\" => 7, \"medical\" => 8, \"military\" => 9, \"political\" => 10, \"retail\" => 11, \"retired\" => 12, \"sales\" => 13, \"student\" => 14, \"other\" => 15}"
   ]
  },
  {
   "cell_type": "code",
   "execution_count": null,
   "metadata": {},
   "outputs": [],
   "source": [
    "filtered_profile['occupation'].value_counts() #categorical  #0s means not filled \n",
    "\n",
    "\n",
    "temp8 = filtered_profile[(filtered_profile['occupation'].isnull() == False) & (filtered_profile['occupation']!=0) ] # ppl who filled 'marital_status'\n",
    "\n",
    "f_mode_occupation = mode(temp8[temp8['sex']==2]['occupation']).mode[0]\n",
    "print 'mode of occupation of female is:', f_mode_occupation\n",
    "m_mode_occupation = mode(temp8[temp8['sex']==1]['occupation']).mode[0]\n",
    "print 'mode of occupation of male is:', m_mode_occupation\n",
    "print \n",
    "\n",
    "percent_f_occupation = (temp8[temp8['sex']==2]['occupation']).value_counts()/len(temp8[temp8['sex']==2])\n",
    "print '% of female occupation among female who filled:'\n",
    "print percent_f_occupation\n",
    "plt.title('percent_female_user_occupation')\n",
    "percent_f_occupation.plot(kind='bar')\n",
    "plt.show()\n",
    "\n",
    "percent_m_occupation = (temp8[temp8['sex']==1]['occupation']).value_counts()/len(temp8[temp8['sex']==1])\n",
    "print '% of male occupation among male who filled:'\n",
    "print percent_m_occupation\n",
    "plt.title('percent_male_user_occupation')\n",
    "percent_m_occupation.plot(kind='bar')\n",
    "plt.show()"
   ]
  },
  {
   "cell_type": "code",
   "execution_count": null,
   "metadata": {},
   "outputs": [],
   "source": [
    "mask = (filtered_profile['occupation'].isnull() == True) | (filtered_profile['occupation']==0)\n",
    "filtered_profile.loc[(mask)&(filtered_profile['sex']==2),'occupation'] = 5\n",
    "filtered_profile.loc[(mask)&(filtered_profile['sex']==1),'occupation'] = 4\n",
    "\n",
    "filtered_profile['occupation'].value_counts()/len(filtered_profile['occupation'])"
   ]
  },
  {
   "cell_type": "code",
   "execution_count": null,
   "metadata": {
    "scrolled": true
   },
   "outputs": [],
   "source": [
    "filtered_profile.info()"
   ]
  },
  {
   "cell_type": "markdown",
   "metadata": {},
   "source": [
    "### saved fill missing data to local 'filtered_profile_fill'"
   ]
  },
  {
   "cell_type": "code",
   "execution_count": null,
   "metadata": {
    "scrolled": true
   },
   "outputs": [],
   "source": [
    "filtered_profile.columns"
   ]
  },
  {
   "cell_type": "code",
   "execution_count": null,
   "metadata": {
    "collapsed": true
   },
   "outputs": [],
   "source": [
    "# need to drop other 5 cols => 33 features left\n",
    "filtered_profile.drop(second_drop_cols, axis=1, inplace=True)"
   ]
  },
  {
   "cell_type": "code",
   "execution_count": null,
   "metadata": {
    "collapsed": true
   },
   "outputs": [],
   "source": [
    "# need to drop missing_cols which are have completed data \n",
    "filtered_profile.drop(third_drop_cols, axis=1, inplace=True)"
   ]
  },
  {
   "cell_type": "code",
   "execution_count": null,
   "metadata": {
    "scrolled": true
   },
   "outputs": [],
   "source": [
    "filtered_profile.columns.tolist()"
   ]
  },
  {
   "cell_type": "code",
   "execution_count": null,
   "metadata": {
    "collapsed": true
   },
   "outputs": [],
   "source": [
    "filtered_profile.to_csv('path/filtered_profile_fill.csv',sep=',')"
   ]
  },
  {
   "cell_type": "markdown",
   "metadata": {},
   "source": [
    "### read save file as 'filtered_profile_fill'"
   ]
  },
  {
   "cell_type": "code",
   "execution_count": null,
   "metadata": {
    "scrolled": true
   },
   "outputs": [],
   "source": [
    "filtered_profile_fill = pd.read_csv('path/filtered_profile_fill.csv')\n",
    "filtered_profile_fill # 144586 rows × 44 columns"
   ]
  },
  {
   "cell_type": "code",
   "execution_count": null,
   "metadata": {
    "scrolled": false
   },
   "outputs": [],
   "source": [
    "filtered_profile_fill.columns.tolist()"
   ]
  },
  {
   "cell_type": "code",
   "execution_count": null,
   "metadata": {
    "collapsed": true
   },
   "outputs": [],
   "source": []
  },
  {
   "cell_type": "markdown",
   "metadata": {},
   "source": [
    "### - dummify categorical values"
   ]
  },
  {
   "cell_type": "code",
   "execution_count": null,
   "metadata": {},
   "outputs": [],
   "source": [
    "id_cols = ['user_id'] #1\n",
    "\n",
    "categ_cols = ['categ_cols in system'] #15\n",
    "\n",
    "numeric_cols = ['numeric_cols in system'] #16\n",
    "missing_cols = set(filtered_profile_fill.columns.tolist())- \\\n",
    "set(id_cols)- \\\n",
    "set(categ_cols)- \\\n",
    "set(numeric_cols) \n",
    "\n",
    "len(id_cols),len(categ_cols),len(numeric_cols),len(missing_cols)"
   ]
  },
  {
   "cell_type": "code",
   "execution_count": null,
   "metadata": {
    "scrolled": true
   },
   "outputs": [],
   "source": [
    "missing_cols #10"
   ]
  },
  {
   "cell_type": "code",
   "execution_count": null,
   "metadata": {
    "collapsed": true,
    "scrolled": true
   },
   "outputs": [],
   "source": [
    "filtered_profile_fill = pd.get_dummies(filtered_profile_fill, \n",
    "                                       columns= categ_cols) "
   ]
  },
  {
   "cell_type": "code",
   "execution_count": null,
   "metadata": {
    "scrolled": true
   },
   "outputs": [],
   "source": [
    "filtered_profile_fill.columns.tolist() #144586 rows × 128 columns"
   ]
  },
  {
   "cell_type": "code",
   "execution_count": null,
   "metadata": {
    "scrolled": true
   },
   "outputs": [],
   "source": [
    "filtered_profile_fill"
   ]
  },
  {
   "cell_type": "markdown",
   "metadata": {},
   "source": [
    "#### drop system accounts: 2 rows"
   ]
  },
  {
   "cell_type": "code",
   "execution_count": null,
   "metadata": {},
   "outputs": [],
   "source": [
    "system_account = [1,2,3,4]\n",
    "drop_system_account = filtered_profile_fill[filtered_profile_fill['user_id'].isin(system_account)]\n",
    "drop_system_account"
   ]
  },
  {
   "cell_type": "code",
   "execution_count": null,
   "metadata": {
    "collapsed": true
   },
   "outputs": [],
   "source": [
    "filtered_profile_fill.drop(drop_system_account.index, inplace=True)"
   ]
  },
  {
   "cell_type": "code",
   "execution_count": null,
   "metadata": {
    "scrolled": true
   },
   "outputs": [],
   "source": [
    "filtered_profile_fill"
   ]
  },
  {
   "cell_type": "markdown",
   "metadata": {},
   "source": [
    "### saved dummified profile"
   ]
  },
  {
   "cell_type": "code",
   "execution_count": null,
   "metadata": {
    "collapsed": true,
    "scrolled": true
   },
   "outputs": [],
   "source": [
    "filtered_profile_fill.to_csv('path/filtered_profile_fill_dum.csv')"
   ]
  },
  {
   "cell_type": "markdown",
   "metadata": {},
   "source": [
    "### read dummified profile below "
   ]
  },
  {
   "cell_type": "code",
   "execution_count": null,
   "metadata": {
    "scrolled": true
   },
   "outputs": [],
   "source": [
    "filtered_profile_fill_dum = pd.read_csv('path/filtered_profile_fill_dum.csv')\n",
    "filtered_profile_fill_dum #144584 rows × 128 columns\n"
   ]
  },
  {
   "cell_type": "markdown",
   "metadata": {
    "collapsed": true
   },
   "source": [
    "### The final preprocessed file is filled with missing values and dummies"
   ]
  },
  {
   "cell_type": "code",
   "execution_count": null,
   "metadata": {
    "collapsed": true
   },
   "outputs": [],
   "source": []
  }
 ],
 "metadata": {
  "kernelspec": {
   "display_name": "Python 2",
   "language": "python",
   "name": "python2"
  },
  "language_info": {
   "codemirror_mode": {
    "name": "ipython",
    "version": 2
   },
   "file_extension": ".py",
   "mimetype": "text/x-python",
   "name": "python",
   "nbconvert_exporter": "python",
   "pygments_lexer": "ipython2",
   "version": "2.7.13"
  }
 },
 "nbformat": 4,
 "nbformat_minor": 2
}
